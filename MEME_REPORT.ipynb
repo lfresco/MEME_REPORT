{
 "cells": [
  {
   "cell_type": "markdown",
   "metadata": {},
   "source": [
    "# ANALISI MEME\n"
   ]
  },
  {
   "cell_type": "code",
   "execution_count": 5,
   "metadata": {},
   "outputs": [],
   "source": [
    "dati <- read.csv(\"winequality-red.csv\", header = TRUE, sep = \";\")\n"
   ]
  },
  {
   "cell_type": "markdown",
   "metadata": {},
   "source": [
    "Dobbiamo ora estrarre un campione di 15 osservazioni che utilizzeremo nelle nostre analisi. "
   ]
  },
  {
   "cell_type": "code",
   "execution_count": 6,
   "metadata": {},
   "outputs": [
    {
     "data": {
      "text/html": [
       "<table>\n",
       "<thead><tr><th></th><th scope=col>fixed.acidity</th><th scope=col>volatile.acidity</th><th scope=col>citric.acid</th><th scope=col>residual.sugar</th><th scope=col>chlorides</th><th scope=col>free.sulfur.dioxide</th><th scope=col>total.sulfur.dioxide</th><th scope=col>density</th><th scope=col>pH</th><th scope=col>sulphates</th><th scope=col>alcohol</th><th scope=col>quality</th></tr></thead>\n",
       "<tbody>\n",
       "\t<tr><th scope=row>13</th><td> 5.6    </td><td>0.615   </td><td>0.00    </td><td>1.60    </td><td>0.089   </td><td>16.0    </td><td>59      </td><td> 0.99430</td><td>3.58    </td><td>0.52    </td><td>9.9     </td><td>5       </td></tr>\n",
       "\t<tr><th scope=row>680</th><td>10.8    </td><td>0.260   </td><td>0.45    </td><td>3.30    </td><td>0.060   </td><td>20.0    </td><td>49      </td><td> 0.99720</td><td>3.13    </td><td>0.54    </td><td>9.6     </td><td>5       </td></tr>\n",
       "\t<tr><th scope=row>1198</th><td> 7.7    </td><td>0.570   </td><td>0.21    </td><td>1.50    </td><td>0.069   </td><td> 4.0    </td><td> 9      </td><td> 0.99458</td><td>3.16    </td><td>0.54    </td><td>9.8     </td><td>6       </td></tr>\n",
       "\t<tr><th scope=row>1564</th><td> 7.2    </td><td>0.695   </td><td>0.13    </td><td>2.00    </td><td>0.076   </td><td>12.0    </td><td>20      </td><td> 0.99546</td><td>3.29    </td><td>0.54    </td><td>10.1    </td><td>5       </td></tr>\n",
       "\t<tr><th scope=row>323</th><td> 7.8    </td><td>0.620   </td><td>0.05    </td><td>2.30    </td><td>0.079   </td><td> 6.0    </td><td>18      </td><td> 0.99735</td><td>3.29    </td><td>0.63    </td><td>9.3     </td><td>5       </td></tr>\n",
       "\t<tr><th scope=row>1470</th><td> 7.3    </td><td>0.980   </td><td>0.05    </td><td>2.10    </td><td>0.061   </td><td>20.0    </td><td>49      </td><td> 0.99705</td><td>3.31    </td><td>0.55    </td><td>9.7     </td><td>3       </td></tr>\n",
       "\t<tr><th scope=row>382</th><td>13.7    </td><td>0.415   </td><td>0.68    </td><td>2.90    </td><td>0.085   </td><td>17.0    </td><td>43      </td><td>10.01400</td><td>3.06    </td><td>0.80    </td><td>10      </td><td>6       </td></tr>\n",
       "\t<tr><th scope=row>1372</th><td> 7.5    </td><td>0.580   </td><td>0.56    </td><td>3.10    </td><td>0.153   </td><td> 5.0    </td><td>14      </td><td> 0.99476</td><td>3.21    </td><td>1.03    </td><td>11.6    </td><td>6       </td></tr>\n",
       "\t<tr><th scope=row>659</th><td> 7.2    </td><td>0.520   </td><td>0.07    </td><td>1.40    </td><td>0.074   </td><td> 5.0    </td><td>20      </td><td> 0.99730</td><td>3.32    </td><td>0.81    </td><td>9.6     </td><td>6       </td></tr>\n",
       "\t<tr><th scope=row>1358</th><td> 7.3    </td><td>0.430   </td><td>0.24    </td><td>2.50    </td><td>0.078   </td><td>27.0    </td><td>67      </td><td> 0.99648</td><td>3.60    </td><td>0.59    </td><td>11.1    </td><td>6       </td></tr>\n",
       "\t<tr><th scope=row>1338</th><td> 6.0    </td><td>0.500   </td><td>0.00    </td><td>1.40    </td><td>0.057   </td><td>15.0    </td><td>26      </td><td> 0.99448</td><td>3.36    </td><td>0.45    </td><td>9.5     </td><td>5       </td></tr>\n",
       "\t<tr><th scope=row>632</th><td>10.4    </td><td>0.280   </td><td>0.54    </td><td>2.70    </td><td>0.105   </td><td> 5.0    </td><td>19      </td><td> 0.99880</td><td>3.25    </td><td>0.63    </td><td>9.5     </td><td>5       </td></tr>\n",
       "\t<tr><th scope=row>1301</th><td> 5.2    </td><td>0.645   </td><td>0.00    </td><td>2.15    </td><td>0.080   </td><td>15.0    </td><td>28      </td><td> 0.99444</td><td>3.78    </td><td>0.61    </td><td>12.5    </td><td>6       </td></tr>\n",
       "\t<tr><th scope=row>1464</th><td> 6.9    </td><td>0.630   </td><td>0.01    </td><td>2.40    </td><td>0.076   </td><td>14.0    </td><td>39      </td><td> 0.99522</td><td>3.34    </td><td>0.53    </td><td>10.8    </td><td>6       </td></tr>\n",
       "\t<tr><th scope=row>777</th><td> 6.9    </td><td>0.765   </td><td>0.18    </td><td>2.40    </td><td>0.243   </td><td> 5.5    </td><td>48      </td><td> 0.99612</td><td>3.40    </td><td>0.60    </td><td>10.3    </td><td>6       </td></tr>\n",
       "</tbody>\n",
       "</table>\n"
      ],
      "text/latex": [
       "\\begin{tabular}{r|llllllllllll}\n",
       "  & fixed.acidity & volatile.acidity & citric.acid & residual.sugar & chlorides & free.sulfur.dioxide & total.sulfur.dioxide & density & pH & sulphates & alcohol & quality\\\\\n",
       "\\hline\n",
       "\t13 &  5.6     & 0.615    & 0.00     & 1.60     & 0.089    & 16.0     & 59       &  0.99430 & 3.58     & 0.52     & 9.9      & 5       \\\\\n",
       "\t680 & 10.8     & 0.260    & 0.45     & 3.30     & 0.060    & 20.0     & 49       &  0.99720 & 3.13     & 0.54     & 9.6      & 5       \\\\\n",
       "\t1198 &  7.7     & 0.570    & 0.21     & 1.50     & 0.069    &  4.0     &  9       &  0.99458 & 3.16     & 0.54     & 9.8      & 6       \\\\\n",
       "\t1564 &  7.2     & 0.695    & 0.13     & 2.00     & 0.076    & 12.0     & 20       &  0.99546 & 3.29     & 0.54     & 10.1     & 5       \\\\\n",
       "\t323 &  7.8     & 0.620    & 0.05     & 2.30     & 0.079    &  6.0     & 18       &  0.99735 & 3.29     & 0.63     & 9.3      & 5       \\\\\n",
       "\t1470 &  7.3     & 0.980    & 0.05     & 2.10     & 0.061    & 20.0     & 49       &  0.99705 & 3.31     & 0.55     & 9.7      & 3       \\\\\n",
       "\t382 & 13.7     & 0.415    & 0.68     & 2.90     & 0.085    & 17.0     & 43       & 10.01400 & 3.06     & 0.80     & 10       & 6       \\\\\n",
       "\t1372 &  7.5     & 0.580    & 0.56     & 3.10     & 0.153    &  5.0     & 14       &  0.99476 & 3.21     & 1.03     & 11.6     & 6       \\\\\n",
       "\t659 &  7.2     & 0.520    & 0.07     & 1.40     & 0.074    &  5.0     & 20       &  0.99730 & 3.32     & 0.81     & 9.6      & 6       \\\\\n",
       "\t1358 &  7.3     & 0.430    & 0.24     & 2.50     & 0.078    & 27.0     & 67       &  0.99648 & 3.60     & 0.59     & 11.1     & 6       \\\\\n",
       "\t1338 &  6.0     & 0.500    & 0.00     & 1.40     & 0.057    & 15.0     & 26       &  0.99448 & 3.36     & 0.45     & 9.5      & 5       \\\\\n",
       "\t632 & 10.4     & 0.280    & 0.54     & 2.70     & 0.105    &  5.0     & 19       &  0.99880 & 3.25     & 0.63     & 9.5      & 5       \\\\\n",
       "\t1301 &  5.2     & 0.645    & 0.00     & 2.15     & 0.080    & 15.0     & 28       &  0.99444 & 3.78     & 0.61     & 12.5     & 6       \\\\\n",
       "\t1464 &  6.9     & 0.630    & 0.01     & 2.40     & 0.076    & 14.0     & 39       &  0.99522 & 3.34     & 0.53     & 10.8     & 6       \\\\\n",
       "\t777 &  6.9     & 0.765    & 0.18     & 2.40     & 0.243    &  5.5     & 48       &  0.99612 & 3.40     & 0.60     & 10.3     & 6       \\\\\n",
       "\\end{tabular}\n"
      ],
      "text/markdown": [
       "\n",
       "| <!--/--> | fixed.acidity | volatile.acidity | citric.acid | residual.sugar | chlorides | free.sulfur.dioxide | total.sulfur.dioxide | density | pH | sulphates | alcohol | quality | \n",
       "|---|---|---|---|---|---|---|---|---|---|---|---|---|---|---|\n",
       "| 13 |  5.6     | 0.615    | 0.00     | 1.60     | 0.089    | 16.0     | 59       |  0.99430 | 3.58     | 0.52     | 9.9      | 5        | \n",
       "| 680 | 10.8     | 0.260    | 0.45     | 3.30     | 0.060    | 20.0     | 49       |  0.99720 | 3.13     | 0.54     | 9.6      | 5        | \n",
       "| 1198 |  7.7     | 0.570    | 0.21     | 1.50     | 0.069    |  4.0     |  9       |  0.99458 | 3.16     | 0.54     | 9.8      | 6        | \n",
       "| 1564 |  7.2     | 0.695    | 0.13     | 2.00     | 0.076    | 12.0     | 20       |  0.99546 | 3.29     | 0.54     | 10.1     | 5        | \n",
       "| 323 |  7.8     | 0.620    | 0.05     | 2.30     | 0.079    |  6.0     | 18       |  0.99735 | 3.29     | 0.63     | 9.3      | 5        | \n",
       "| 1470 |  7.3     | 0.980    | 0.05     | 2.10     | 0.061    | 20.0     | 49       |  0.99705 | 3.31     | 0.55     | 9.7      | 3        | \n",
       "| 382 | 13.7     | 0.415    | 0.68     | 2.90     | 0.085    | 17.0     | 43       | 10.01400 | 3.06     | 0.80     | 10       | 6        | \n",
       "| 1372 |  7.5     | 0.580    | 0.56     | 3.10     | 0.153    |  5.0     | 14       |  0.99476 | 3.21     | 1.03     | 11.6     | 6        | \n",
       "| 659 |  7.2     | 0.520    | 0.07     | 1.40     | 0.074    |  5.0     | 20       |  0.99730 | 3.32     | 0.81     | 9.6      | 6        | \n",
       "| 1358 |  7.3     | 0.430    | 0.24     | 2.50     | 0.078    | 27.0     | 67       |  0.99648 | 3.60     | 0.59     | 11.1     | 6        | \n",
       "| 1338 |  6.0     | 0.500    | 0.00     | 1.40     | 0.057    | 15.0     | 26       |  0.99448 | 3.36     | 0.45     | 9.5      | 5        | \n",
       "| 632 | 10.4     | 0.280    | 0.54     | 2.70     | 0.105    |  5.0     | 19       |  0.99880 | 3.25     | 0.63     | 9.5      | 5        | \n",
       "| 1301 |  5.2     | 0.645    | 0.00     | 2.15     | 0.080    | 15.0     | 28       |  0.99444 | 3.78     | 0.61     | 12.5     | 6        | \n",
       "| 1464 |  6.9     | 0.630    | 0.01     | 2.40     | 0.076    | 14.0     | 39       |  0.99522 | 3.34     | 0.53     | 10.8     | 6        | \n",
       "| 777 |  6.9     | 0.765    | 0.18     | 2.40     | 0.243    |  5.5     | 48       |  0.99612 | 3.40     | 0.60     | 10.3     | 6        | \n",
       "\n",
       "\n"
      ],
      "text/plain": [
       "     fixed.acidity volatile.acidity citric.acid residual.sugar chlorides\n",
       "13    5.6          0.615            0.00        1.60           0.089    \n",
       "680  10.8          0.260            0.45        3.30           0.060    \n",
       "1198  7.7          0.570            0.21        1.50           0.069    \n",
       "1564  7.2          0.695            0.13        2.00           0.076    \n",
       "323   7.8          0.620            0.05        2.30           0.079    \n",
       "1470  7.3          0.980            0.05        2.10           0.061    \n",
       "382  13.7          0.415            0.68        2.90           0.085    \n",
       "1372  7.5          0.580            0.56        3.10           0.153    \n",
       "659   7.2          0.520            0.07        1.40           0.074    \n",
       "1358  7.3          0.430            0.24        2.50           0.078    \n",
       "1338  6.0          0.500            0.00        1.40           0.057    \n",
       "632  10.4          0.280            0.54        2.70           0.105    \n",
       "1301  5.2          0.645            0.00        2.15           0.080    \n",
       "1464  6.9          0.630            0.01        2.40           0.076    \n",
       "777   6.9          0.765            0.18        2.40           0.243    \n",
       "     free.sulfur.dioxide total.sulfur.dioxide density  pH   sulphates alcohol\n",
       "13   16.0                59                    0.99430 3.58 0.52      9.9    \n",
       "680  20.0                49                    0.99720 3.13 0.54      9.6    \n",
       "1198  4.0                 9                    0.99458 3.16 0.54      9.8    \n",
       "1564 12.0                20                    0.99546 3.29 0.54      10.1   \n",
       "323   6.0                18                    0.99735 3.29 0.63      9.3    \n",
       "1470 20.0                49                    0.99705 3.31 0.55      9.7    \n",
       "382  17.0                43                   10.01400 3.06 0.80      10     \n",
       "1372  5.0                14                    0.99476 3.21 1.03      11.6   \n",
       "659   5.0                20                    0.99730 3.32 0.81      9.6    \n",
       "1358 27.0                67                    0.99648 3.60 0.59      11.1   \n",
       "1338 15.0                26                    0.99448 3.36 0.45      9.5    \n",
       "632   5.0                19                    0.99880 3.25 0.63      9.5    \n",
       "1301 15.0                28                    0.99444 3.78 0.61      12.5   \n",
       "1464 14.0                39                    0.99522 3.34 0.53      10.8   \n",
       "777   5.5                48                    0.99612 3.40 0.60      10.3   \n",
       "     quality\n",
       "13   5      \n",
       "680  5      \n",
       "1198 6      \n",
       "1564 5      \n",
       "323  5      \n",
       "1470 3      \n",
       "382  6      \n",
       "1372 6      \n",
       "659  6      \n",
       "1358 6      \n",
       "1338 5      \n",
       "632  5      \n",
       "1301 6      \n",
       "1464 6      \n",
       "777  6      "
      ]
     },
     "metadata": {},
     "output_type": "display_data"
    }
   ],
   "source": [
    " campione <- dati[sample(nrow(dati), 15), ]\n",
    "campione"
   ]
  },
  {
   "cell_type": "code",
   "execution_count": 7,
   "metadata": {},
   "outputs": [
    {
     "data": {
      "text/plain": [
       " fixed.acidity    volatile.acidity  citric.acid     residual.sugar\n",
       " Min.   : 5.200   Min.   :0.2600   Min.   :0.0000   Min.   :1.40  \n",
       " 1st Qu.: 6.900   1st Qu.:0.4650   1st Qu.:0.0300   1st Qu.:1.80  \n",
       " Median : 7.300   Median :0.5800   Median :0.1300   Median :2.30  \n",
       " Mean   : 7.833   Mean   :0.5670   Mean   :0.2113   Mean   :2.25  \n",
       " 3rd Qu.: 7.750   3rd Qu.:0.6375   3rd Qu.:0.3450   3rd Qu.:2.60  \n",
       " Max.   :13.700   Max.   :0.9800   Max.   :0.6800   Max.   :3.30  \n",
       "                                                                  \n",
       "   chlorides       free.sulfur.dioxide total.sulfur.dioxide    density       \n",
       " Min.   :0.05700   Min.   : 4.00       Min.   : 9.00        Min.   : 0.9943  \n",
       " 1st Qu.:0.07150   1st Qu.: 5.25       1st Qu.:19.50        1st Qu.: 0.9947  \n",
       " Median :0.07800   Median :14.00       Median :28.00        Median : 0.9961  \n",
       " Mean   :0.09233   Mean   :12.43       Mean   :33.87        Mean   : 1.5972  \n",
       " 3rd Qu.:0.08700   3rd Qu.:16.50       3rd Qu.:48.50        3rd Qu.: 0.9972  \n",
       " Max.   :0.24300   Max.   :27.00       Max.   :67.00        Max.   :10.0140  \n",
       "                                                                             \n",
       "       pH          sulphates         alcohol     quality   \n",
       " Min.   :3.060   Min.   :0.4500   9.5    :2   Min.   :3.0  \n",
       " 1st Qu.:3.230   1st Qu.:0.5400   9.6    :2   1st Qu.:5.0  \n",
       " Median :3.310   Median :0.5900   10     :1   Median :6.0  \n",
       " Mean   :3.339   Mean   :0.6247   10.1   :1   Mean   :5.4  \n",
       " 3rd Qu.:3.380   3rd Qu.:0.6300   10.3   :1   3rd Qu.:6.0  \n",
       " Max.   :3.780   Max.   :1.0300   10.8   :1   Max.   :6.0  \n",
       "                                  (Other):7                "
      ]
     },
     "metadata": {},
     "output_type": "display_data"
    }
   ],
   "source": [
    "summary(campione)"
   ]
  },
  {
   "cell_type": "markdown",
   "metadata": {},
   "source": [
    "comando summary() da informazioni generali sulle varie variabili. Tutte numeriche. "
   ]
  },
  {
   "cell_type": "markdown",
   "metadata": {},
   "source": [
    "Per avere un'idea generale usiamo comando pairs(). Plotta le variabili l'una contro l'altra e ti consente di vedere se c'è qualche tipo di relazione tra le stesse. In particolare visto che dobbiamo andare a vedere come si comportano rispetto a quality (la cosa che vogliamoa andare a stimare, quindi l'ultima colonna / ultima riga)."
   ]
  },
  {
   "cell_type": "code",
   "execution_count": 8,
   "metadata": {
    "scrolled": false
   },
   "outputs": [
    {
     "data": {
      "image/png": "[encoded data removed]",
      "text/plain": [
       "plot without title"
      ]
     },
     "metadata": {},
     "output_type": "display_data"
    }
   ],
   "source": [
    "pairs(campione)"
   ]
  },
  {
   "cell_type": "markdown",
   "metadata": {},
   "source": [
    "Non è che si capisca molto vista anche la natura discreta della stessa. Andiamo a vedere ora la correlazione tra le varie variabili (sempre prestando attenzione all'ultima riga / colonna)"
   ]
  },
  {
   "cell_type": "markdown",
   "metadata": {},
   "source": [
    "Provato ad utilizzare comando cor() per avere idea della correlazione. Non funziona perchè alcohol è una variabile \"factor\". La rendiamo numerica con seguente comando"
   ]
  },
  {
   "cell_type": "code",
   "execution_count": 9,
   "metadata": {},
   "outputs": [],
   "source": [
    "campione$alcohol <- as.numeric(as.character(campione$alcohol))"
   ]
  },
  {
   "cell_type": "code",
   "execution_count": 10,
   "metadata": {},
   "outputs": [
    {
     "data": {
      "text/html": [
       "<table>\n",
       "<thead><tr><th></th><th scope=col>fixed.acidity</th><th scope=col>volatile.acidity</th><th scope=col>citric.acid</th><th scope=col>residual.sugar</th><th scope=col>chlorides</th><th scope=col>free.sulfur.dioxide</th><th scope=col>total.sulfur.dioxide</th><th scope=col>density</th><th scope=col>pH</th><th scope=col>sulphates</th><th scope=col>alcohol</th><th scope=col>quality</th></tr></thead>\n",
       "<tbody>\n",
       "\t<tr><th scope=row>fixed.acidity</th><td> 1.00000000</td><td>-0.56267162</td><td> 0.83684144</td><td> 0.61880785</td><td>-0.06608645</td><td> 0.05811968</td><td> 0.03325561</td><td> 0.73490296</td><td>-0.72799901</td><td> 0.2972131 </td><td>-0.34483730</td><td> 0.03123475</td></tr>\n",
       "\t<tr><th scope=row>volatile.acidity</th><td>-0.56267162</td><td> 1.00000000</td><td>-0.58478550</td><td>-0.37001142</td><td> 0.20724864</td><td>-0.05512057</td><td> 0.04478345</td><td>-0.23047784</td><td> 0.26856209</td><td>-0.1259843 </td><td> 0.14682173</td><td>-0.38126213</td></tr>\n",
       "\t<tr><th scope=row>citric.acid</th><td> 0.83684144</td><td>-0.58478550</td><td> 1.00000000</td><td> 0.74591759</td><td> 0.22005622</td><td>-0.07324595</td><td>-0.06205798</td><td> 0.55622280</td><td>-0.60822004</td><td> 0.5732617 </td><td>-0.01095864</td><td> 0.21530077</td></tr>\n",
       "\t<tr><th scope=row>residual.sugar</th><td> 0.61880785</td><td>-0.37001142</td><td> 0.74591759</td><td> 1.00000000</td><td> 0.27279200</td><td> 0.17777918</td><td> 0.20709041</td><td> 0.29857086</td><td>-0.32944497</td><td> 0.4004956 </td><td> 0.24470877</td><td> 0.09303198</td></tr>\n",
       "\t<tr><th scope=row>chlorides</th><td>-0.06608645</td><td> 0.20724864</td><td> 0.22005622</td><td> 0.27279200</td><td> 1.00000000</td><td>-0.43304127</td><td> 0.05752233</td><td>-0.04255119</td><td> 0.04074867</td><td> 0.3364534 </td><td> 0.22543526</td><td> 0.32923679</td></tr>\n",
       "\t<tr><th scope=row>free.sulfur.dioxide</th><td> 0.05811968</td><td>-0.05512057</td><td>-0.07324595</td><td> 0.17777918</td><td>-0.43304127</td><td> 1.00000000</td><td> 0.78886607</td><td> 0.17830929</td><td> 0.31513673</td><td>-0.3706433 </td><td> 0.17391293</td><td>-0.26912504</td></tr>\n",
       "\t<tr><th scope=row>total.sulfur.dioxide</th><td> 0.03325561</td><td> 0.04478345</td><td>-0.06205798</td><td> 0.20709041</td><td> 0.05752233</td><td> 0.78886607</td><td> 1.00000000</td><td> 0.14152249</td><td> 0.35093774</td><td>-0.3088724 </td><td> 0.07437832</td><td>-0.16038116</td></tr>\n",
       "\t<tr><th scope=row>density</th><td> 0.73490296</td><td>-0.23047784</td><td> 0.55622280</td><td> 0.29857086</td><td>-0.04255119</td><td> 0.17830929</td><td> 0.14152249</td><td> 1.00000000</td><td>-0.40450240</td><td> 0.3265557 </td><td>-0.06748053</td><td> 0.20025935</td></tr>\n",
       "\t<tr><th scope=row>pH</th><td>-0.72799901</td><td> 0.26856209</td><td>-0.60822004</td><td>-0.32944497</td><td> 0.04074867</td><td> 0.31513673</td><td> 0.35093774</td><td>-0.40450240</td><td> 1.00000000</td><td>-0.2832028 </td><td> 0.57013954</td><td> 0.09862190</td></tr>\n",
       "\t<tr><th scope=row>sulphates</th><td> 0.29721307</td><td>-0.12598430</td><td> 0.57326170</td><td> 0.40049559</td><td> 0.33645339</td><td>-0.37064325</td><td>-0.30887236</td><td> 0.32655569</td><td>-0.28320279</td><td> 1.0000000 </td><td> 0.30397947</td><td> 0.38438097</td></tr>\n",
       "\t<tr><th scope=row>alcohol</th><td>-0.34483730</td><td> 0.14682173</td><td>-0.01095864</td><td> 0.24470877</td><td> 0.22543526</td><td> 0.17391293</td><td> 0.07437832</td><td>-0.06748053</td><td> 0.57013954</td><td> 0.3039795 </td><td> 1.00000000</td><td> 0.47429346</td></tr>\n",
       "\t<tr><th scope=row>quality</th><td> 0.03123475</td><td>-0.38126213</td><td> 0.21530077</td><td> 0.09303198</td><td> 0.32923679</td><td>-0.26912504</td><td>-0.16038116</td><td> 0.20025935</td><td> 0.09862190</td><td> 0.3843810 </td><td> 0.47429346</td><td> 1.00000000</td></tr>\n",
       "</tbody>\n",
       "</table>\n"
      ],
      "text/latex": [
       "\\begin{tabular}{r|llllllllllll}\n",
       "  & fixed.acidity & volatile.acidity & citric.acid & residual.sugar & chlorides & free.sulfur.dioxide & total.sulfur.dioxide & density & pH & sulphates & alcohol & quality\\\\\n",
       "\\hline\n",
       "\tfixed.acidity &  1.00000000 & -0.56267162 &  0.83684144 &  0.61880785 & -0.06608645 &  0.05811968 &  0.03325561 &  0.73490296 & -0.72799901 &  0.2972131  & -0.34483730 &  0.03123475\\\\\n",
       "\tvolatile.acidity & -0.56267162 &  1.00000000 & -0.58478550 & -0.37001142 &  0.20724864 & -0.05512057 &  0.04478345 & -0.23047784 &  0.26856209 & -0.1259843  &  0.14682173 & -0.38126213\\\\\n",
       "\tcitric.acid &  0.83684144 & -0.58478550 &  1.00000000 &  0.74591759 &  0.22005622 & -0.07324595 & -0.06205798 &  0.55622280 & -0.60822004 &  0.5732617  & -0.01095864 &  0.21530077\\\\\n",
       "\tresidual.sugar &  0.61880785 & -0.37001142 &  0.74591759 &  1.00000000 &  0.27279200 &  0.17777918 &  0.20709041 &  0.29857086 & -0.32944497 &  0.4004956  &  0.24470877 &  0.09303198\\\\\n",
       "\tchlorides & -0.06608645 &  0.20724864 &  0.22005622 &  0.27279200 &  1.00000000 & -0.43304127 &  0.05752233 & -0.04255119 &  0.04074867 &  0.3364534  &  0.22543526 &  0.32923679\\\\\n",
       "\tfree.sulfur.dioxide &  0.05811968 & -0.05512057 & -0.07324595 &  0.17777918 & -0.43304127 &  1.00000000 &  0.78886607 &  0.17830929 &  0.31513673 & -0.3706433  &  0.17391293 & -0.26912504\\\\\n",
       "\ttotal.sulfur.dioxide &  0.03325561 &  0.04478345 & -0.06205798 &  0.20709041 &  0.05752233 &  0.78886607 &  1.00000000 &  0.14152249 &  0.35093774 & -0.3088724  &  0.07437832 & -0.16038116\\\\\n",
       "\tdensity &  0.73490296 & -0.23047784 &  0.55622280 &  0.29857086 & -0.04255119 &  0.17830929 &  0.14152249 &  1.00000000 & -0.40450240 &  0.3265557  & -0.06748053 &  0.20025935\\\\\n",
       "\tpH & -0.72799901 &  0.26856209 & -0.60822004 & -0.32944497 &  0.04074867 &  0.31513673 &  0.35093774 & -0.40450240 &  1.00000000 & -0.2832028  &  0.57013954 &  0.09862190\\\\\n",
       "\tsulphates &  0.29721307 & -0.12598430 &  0.57326170 &  0.40049559 &  0.33645339 & -0.37064325 & -0.30887236 &  0.32655569 & -0.28320279 &  1.0000000  &  0.30397947 &  0.38438097\\\\\n",
       "\talcohol & -0.34483730 &  0.14682173 & -0.01095864 &  0.24470877 &  0.22543526 &  0.17391293 &  0.07437832 & -0.06748053 &  0.57013954 &  0.3039795  &  1.00000000 &  0.47429346\\\\\n",
       "\tquality &  0.03123475 & -0.38126213 &  0.21530077 &  0.09303198 &  0.32923679 & -0.26912504 & -0.16038116 &  0.20025935 &  0.09862190 &  0.3843810  &  0.47429346 &  1.00000000\\\\\n",
       "\\end{tabular}\n"
      ],
      "text/markdown": [
       "\n",
       "| <!--/--> | fixed.acidity | volatile.acidity | citric.acid | residual.sugar | chlorides | free.sulfur.dioxide | total.sulfur.dioxide | density | pH | sulphates | alcohol | quality | \n",
       "|---|---|---|---|---|---|---|---|---|---|---|---|\n",
       "| fixed.acidity |  1.00000000 | -0.56267162 |  0.83684144 |  0.61880785 | -0.06608645 |  0.05811968 |  0.03325561 |  0.73490296 | -0.72799901 |  0.2972131  | -0.34483730 |  0.03123475 | \n",
       "| volatile.acidity | -0.56267162 |  1.00000000 | -0.58478550 | -0.37001142 |  0.20724864 | -0.05512057 |  0.04478345 | -0.23047784 |  0.26856209 | -0.1259843  |  0.14682173 | -0.38126213 | \n",
       "| citric.acid |  0.83684144 | -0.58478550 |  1.00000000 |  0.74591759 |  0.22005622 | -0.07324595 | -0.06205798 |  0.55622280 | -0.60822004 |  0.5732617  | -0.01095864 |  0.21530077 | \n",
       "| residual.sugar |  0.61880785 | -0.37001142 |  0.74591759 |  1.00000000 |  0.27279200 |  0.17777918 |  0.20709041 |  0.29857086 | -0.32944497 |  0.4004956  |  0.24470877 |  0.09303198 | \n",
       "| chlorides | -0.06608645 |  0.20724864 |  0.22005622 |  0.27279200 |  1.00000000 | -0.43304127 |  0.05752233 | -0.04255119 |  0.04074867 |  0.3364534  |  0.22543526 |  0.32923679 | \n",
       "| free.sulfur.dioxide |  0.05811968 | -0.05512057 | -0.07324595 |  0.17777918 | -0.43304127 |  1.00000000 |  0.78886607 |  0.17830929 |  0.31513673 | -0.3706433  |  0.17391293 | -0.26912504 | \n",
       "| total.sulfur.dioxide |  0.03325561 |  0.04478345 | -0.06205798 |  0.20709041 |  0.05752233 |  0.78886607 |  1.00000000 |  0.14152249 |  0.35093774 | -0.3088724  |  0.07437832 | -0.16038116 | \n",
       "| density |  0.73490296 | -0.23047784 |  0.55622280 |  0.29857086 | -0.04255119 |  0.17830929 |  0.14152249 |  1.00000000 | -0.40450240 |  0.3265557  | -0.06748053 |  0.20025935 | \n",
       "| pH | -0.72799901 |  0.26856209 | -0.60822004 | -0.32944497 |  0.04074867 |  0.31513673 |  0.35093774 | -0.40450240 |  1.00000000 | -0.2832028  |  0.57013954 |  0.09862190 | \n",
       "| sulphates |  0.29721307 | -0.12598430 |  0.57326170 |  0.40049559 |  0.33645339 | -0.37064325 | -0.30887236 |  0.32655569 | -0.28320279 |  1.0000000  |  0.30397947 |  0.38438097 | \n",
       "| alcohol | -0.34483730 |  0.14682173 | -0.01095864 |  0.24470877 |  0.22543526 |  0.17391293 |  0.07437832 | -0.06748053 |  0.57013954 |  0.3039795  |  1.00000000 |  0.47429346 | \n",
       "| quality |  0.03123475 | -0.38126213 |  0.21530077 |  0.09303198 |  0.32923679 | -0.26912504 | -0.16038116 |  0.20025935 |  0.09862190 |  0.3843810  |  0.47429346 |  1.00000000 | \n",
       "\n",
       "\n"
      ],
      "text/plain": [
       "                     fixed.acidity volatile.acidity citric.acid residual.sugar\n",
       "fixed.acidity         1.00000000   -0.56267162       0.83684144  0.61880785   \n",
       "volatile.acidity     -0.56267162    1.00000000      -0.58478550 -0.37001142   \n",
       "citric.acid           0.83684144   -0.58478550       1.00000000  0.74591759   \n",
       "residual.sugar        0.61880785   -0.37001142       0.74591759  1.00000000   \n",
       "chlorides            -0.06608645    0.20724864       0.22005622  0.27279200   \n",
       "free.sulfur.dioxide   0.05811968   -0.05512057      -0.07324595  0.17777918   \n",
       "total.sulfur.dioxide  0.03325561    0.04478345      -0.06205798  0.20709041   \n",
       "density               0.73490296   -0.23047784       0.55622280  0.29857086   \n",
       "pH                   -0.72799901    0.26856209      -0.60822004 -0.32944497   \n",
       "sulphates             0.29721307   -0.12598430       0.57326170  0.40049559   \n",
       "alcohol              -0.34483730    0.14682173      -0.01095864  0.24470877   \n",
       "quality               0.03123475   -0.38126213       0.21530077  0.09303198   \n",
       "                     chlorides   free.sulfur.dioxide total.sulfur.dioxide\n",
       "fixed.acidity        -0.06608645  0.05811968          0.03325561         \n",
       "volatile.acidity      0.20724864 -0.05512057          0.04478345         \n",
       "citric.acid           0.22005622 -0.07324595         -0.06205798         \n",
       "residual.sugar        0.27279200  0.17777918          0.20709041         \n",
       "chlorides             1.00000000 -0.43304127          0.05752233         \n",
       "free.sulfur.dioxide  -0.43304127  1.00000000          0.78886607         \n",
       "total.sulfur.dioxide  0.05752233  0.78886607          1.00000000         \n",
       "density              -0.04255119  0.17830929          0.14152249         \n",
       "pH                    0.04074867  0.31513673          0.35093774         \n",
       "sulphates             0.33645339 -0.37064325         -0.30887236         \n",
       "alcohol               0.22543526  0.17391293          0.07437832         \n",
       "quality               0.32923679 -0.26912504         -0.16038116         \n",
       "                     density     pH          sulphates  alcohol     quality    \n",
       "fixed.acidity         0.73490296 -0.72799901  0.2972131 -0.34483730  0.03123475\n",
       "volatile.acidity     -0.23047784  0.26856209 -0.1259843  0.14682173 -0.38126213\n",
       "citric.acid           0.55622280 -0.60822004  0.5732617 -0.01095864  0.21530077\n",
       "residual.sugar        0.29857086 -0.32944497  0.4004956  0.24470877  0.09303198\n",
       "chlorides            -0.04255119  0.04074867  0.3364534  0.22543526  0.32923679\n",
       "free.sulfur.dioxide   0.17830929  0.31513673 -0.3706433  0.17391293 -0.26912504\n",
       "total.sulfur.dioxide  0.14152249  0.35093774 -0.3088724  0.07437832 -0.16038116\n",
       "density               1.00000000 -0.40450240  0.3265557 -0.06748053  0.20025935\n",
       "pH                   -0.40450240  1.00000000 -0.2832028  0.57013954  0.09862190\n",
       "sulphates             0.32655569 -0.28320279  1.0000000  0.30397947  0.38438097\n",
       "alcohol              -0.06748053  0.57013954  0.3039795  1.00000000  0.47429346\n",
       "quality               0.20025935  0.09862190  0.3843810  0.47429346  1.00000000"
      ]
     },
     "metadata": {},
     "output_type": "display_data"
    }
   ],
   "source": [
    "cor(campione)"
   ]
  },
  {
   "cell_type": "markdown",
   "metadata": {},
   "source": [
    "Per avere rappresentazione migliore usiamo comando corrplot() contenuto nella libreria corrplot."
   ]
  },
  {
   "cell_type": "code",
   "execution_count": 11,
   "metadata": {},
   "outputs": [],
   "source": [
    "#install.packages(\"corrplot\",repos = \"http://cran.us.r-project.org\")\n",
    "library(corrplot)"
   ]
  },
  {
   "cell_type": "code",
   "execution_count": 14,
   "metadata": {},
   "outputs": [
    {
     "data": {
      "image/png": "[encoded data removed]",
      "text/plain": [
       "Plot with title \"\""
      ]
     },
     "metadata": {},
     "output_type": "display_data"
    }
   ],
   "source": [
    "corrplot(cor(campione))"
   ]
  },
  {
   "cell_type": "markdown",
   "metadata": {},
   "source": [
    "Occorre guardare nell'ultima riga/colonna quali sono i pallini più grandi. (colore blu = correlazione positiva = cresce variabile cresce qualità. colore rosso = cresce variabile diminuisce qualità). Le più legate a qualità paiono essere \"volatile.acidity\", \"chlorides\", \"alcohol\". Però tanto il modello all'inizio lo stimiamo con tutte le variabili."
   ]
  },
  {
   "cell_type": "code",
   "execution_count": 15,
   "metadata": {},
   "outputs": [],
   "source": [
    "attach(campione)"
   ]
  },
  {
   "cell_type": "code",
   "execution_count": 17,
   "metadata": {},
   "outputs": [
    {
     "data": {
      "text/plain": [
       "\n",
       "Call:\n",
       "lm(formula = quality ~ ., data = campione)\n",
       "\n",
       "Residuals:\n",
       "        13        680       1198       1564        323       1470        382 \n",
       "-3.611e-02 -1.822e-01  2.461e-01  2.245e-01  3.681e-01 -2.113e-01 -3.182e-06 \n",
       "      1372        659       1358       1338        632       1301       1464 \n",
       "-2.499e-02 -1.312e-01  4.415e-01 -2.579e-01 -1.573e-01 -2.053e-01 -5.151e-02 \n",
       "       777 \n",
       "-2.236e-02 \n",
       "\n",
       "Coefficients:\n",
       "                     Estimate Std. Error t value Pr(>|t|)  \n",
       "(Intercept)           7.37536    6.26357   1.178   0.3239  \n",
       "fixed.acidity         0.22371    0.34119   0.656   0.5588  \n",
       "volatile.acidity     -4.70001    1.18333  -3.972   0.0285 *\n",
       "citric.acid          -4.03578    2.15797  -1.870   0.1582  \n",
       "residual.sugar       -0.91223    0.63042  -1.447   0.2437  \n",
       "chlorides             9.47508    7.99767   1.185   0.3214  \n",
       "free.sulfur.dioxide  -0.03731    0.07575  -0.493   0.6561  \n",
       "total.sulfur.dioxide  0.01760    0.02403   0.733   0.5168  \n",
       "density               0.03028    0.15732   0.192   0.8597  \n",
       "pH                   -3.61859    1.70012  -2.128   0.1232  \n",
       "sulphates             0.79686    1.57926   0.505   0.6486  \n",
       "alcohol               1.21043    0.37124   3.260   0.0471 *\n",
       "---\n",
       "Signif. codes:  0 '***' 0.001 '**' 0.01 '*' 0.05 '.' 0.1 ' ' 1\n",
       "\n",
       "Residual standard error: 0.4743 on 3 degrees of freedom\n",
       "Multiple R-squared:  0.9297,\tAdjusted R-squared:  0.6719 \n",
       "F-statistic: 3.606 on 11 and 3 DF,  p-value: 0.1594\n"
      ]
     },
     "metadata": {},
     "output_type": "display_data"
    }
   ],
   "source": [
    "lm.fit = lm(quality ∼., data = campione)\n",
    "summary(lm.fit)"
   ]
  },
  {
   "cell_type": "markdown",
   "metadata": {},
   "source": [
    "Come ci aspettavamo le uniche due variabili che risultano statisticamente significative sono volatile.acidity e alcohol. Questo però è anche legato al fatto che avendo poche osservazioni a nostra disposizione gli stimatori presentano tutti una grande varianza il che va ad influenzare molto la precisione dei nostri risultati."
   ]
  },
  {
   "cell_type": "code",
   "execution_count": 19,
   "metadata": {},
   "outputs": [
    {
     "data": {
      "text/plain": [
       "\n",
       "Call:\n",
       "lm(formula = quality ~ alcohol + volatile.acidity, data = campione)\n",
       "\n",
       "Residuals:\n",
       "     Min       1Q   Median       3Q      Max \n",
       "-1.27913 -0.27500 -0.07301  0.41780  0.97420 \n",
       "\n",
       "Coefficients:\n",
       "                 Estimate Std. Error t value Pr(>|t|)  \n",
       "(Intercept)        1.5210     2.0560   0.740   0.4737  \n",
       "alcohol            0.4955     0.2010   2.466   0.0297 *\n",
       "volatile.acidity  -2.0901     0.9969  -2.097   0.0579 .\n",
       "---\n",
       "Signif. codes:  0 '***' 0.001 '**' 0.01 '*' 0.05 '.' 0.1 ' ' 1\n",
       "\n",
       "Residual standard error: 0.6737 on 12 degrees of freedom\n",
       "Multiple R-squared:  0.4327,\tAdjusted R-squared:  0.3382 \n",
       "F-statistic: 4.577 on 2 and 12 DF,  p-value: 0.03332\n"
      ]
     },
     "metadata": {},
     "output_type": "display_data"
    }
   ],
   "source": []
  }
 ],
 "metadata": {
  "kernelspec": {
   "display_name": "R",
   "language": "R",
   "name": "ir"
  },
  "language_info": {
   "codemirror_mode": "r",
   "file_extension": ".r",
   "mimetype": "text/x-r-source",
   "name": "R",
   "pygments_lexer": "r",
   "version": "3.5.1"
  }
 },
 "nbformat": 4,
 "nbformat_minor": 2
}
